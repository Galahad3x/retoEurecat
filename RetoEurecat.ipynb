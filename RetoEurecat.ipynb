{
  "nbformat": 4,
  "nbformat_minor": 0,
  "metadata": {
    "colab": {
      "name": "RetoEurecat.ipynb",
      "provenance": [],
      "collapsed_sections": []
    },
    "kernelspec": {
      "name": "python3",
      "display_name": "Python 3"
    },
    "accelerator": "GPU"
  },
  "cells": [
    {
      "cell_type": "code",
      "metadata": {
        "id": "VJ3G-AvO_Y26",
        "colab_type": "code",
        "colab": {}
      },
      "source": [
        "import requests\n",
        "from bs4 import BeautifulSoup\n",
        "import json \n",
        "import numpy as np\n",
        "\n",
        "import sklearn as sk\n",
        "import sklearn.neural_network\n",
        "from sklearn.ensemble import RandomForestClassifier\n",
        "from sklearn import preprocessing"
      ],
      "execution_count": 0,
      "outputs": []
    },
    {
      "cell_type": "code",
      "metadata": {
        "id": "jgFbV8Toazx-",
        "colab_type": "code",
        "colab": {}
      },
      "source": [
        "from google.colab import drive\n",
        "drive.mount('/content/drive')"
      ],
      "execution_count": 0,
      "outputs": []
    },
    {
      "cell_type": "code",
      "metadata": {
        "id": "oLkf2Nxito2Q",
        "colab_type": "code",
        "colab": {}
      },
      "source": [
        "#Jordi\n",
        "class Task:\n",
        "    id = \"\"\n",
        "    completed = False\n",
        "    category = 0\n",
        "    reportId = \"\"\n",
        "    duration = 0\n",
        "    sla = 0\n",
        "\n",
        "    def __init__(self,id, completed, category, reportId, duration,sla):\n",
        "        self.id = id\n",
        "        self.completed = completed\n",
        "        self.category = category\n",
        "        self.reportId = reportId\n",
        "        self.duration = duration\n",
        "        self.sla = sla\n",
        "\n",
        "    def toString(self):\n",
        "        return str(self.id) + \" \" + str(self.completed) + \" \" + self.category.toString() + \" \" + self.reportId + \" \" + str(self.duration) + \" \" + str(self.sla)\n",
        "\n",
        "class Category:\n",
        "    cat_type = 0\n",
        "    description = \"\"\n",
        "    stressLevel = 0\n",
        "\n",
        "    def __init__(self, type, description, stressLevel):\n",
        "        self.cat_type = type\n",
        "        self.description = description\n",
        "        self.stressLevel = stressLevel\n",
        "\n",
        "    def toString(self):\n",
        "        return str(self.cat_type) + \" \" + self.description + \" \" + str(self.stressLevel)\n",
        "\n",
        "class Scenario:\n",
        "    scenarioId = \"\"\n",
        "    tasks = 0\n",
        "    \n",
        "    def __init__(self, scenarioId, tasks):\n",
        "        self.scenarioId = scenarioId\n",
        "        self.tasks = tasks\n",
        "        \n",
        "class Evaluations:\n",
        "    evaluations = 0\n",
        "    \n",
        "    def __init__(self, evaluations):\n",
        "        self.evaluations = evaluations\n",
        "        \n",
        "class ScenarioGuess:\n",
        "    scenario = 0\n",
        "    taskId = \"\"\n",
        "    def __init__(self, scenario, taskId):\n",
        "        self.scenario = scenario\n",
        "        self.taskId = taskId\n",
        "        \n",
        "class Evaluation:\n",
        "    scenarioId = \"\"\n",
        "    taskId = \"\"\n",
        "    \n",
        "    def __init__(self, scenarioId, taskId):\n",
        "        self.scenarioId = scenarioId\n",
        "        self.taskId = taskId\n"
      ],
      "execution_count": 0,
      "outputs": []
    },
    {
      "cell_type": "code",
      "metadata": {
        "id": "gDOCEDoEZXgo",
        "colab_type": "code",
        "colab": {}
      },
      "source": [
        "sets = \"\"\n",
        "n = 0\n",
        "with open('/content/drive/My Drive/Udl/HackEps/Api/api-backup1.json', 'r') as json_file:\n",
        "  for scenario in json_file:\n",
        "    sets += scenario\n",
        "   \n",
        "json_ = json.loads(sets)"
      ],
      "execution_count": 0,
      "outputs": []
    },
    {
      "cell_type": "code",
      "metadata": {
        "colab_type": "code",
        "id": "nDYHriEz4t7y",
        "colab": {}
      },
      "source": [
        "#Joel\n",
        "sets = \"\"\n",
        "n = 0\n",
        "with open('/content/drive/My Drive/Api/api-backup1.json', 'r') as json_file:\n",
        "  for scenario in json_file:\n",
        "    sets += scenario\n",
        "   \n",
        "json_ = json.loads(sets)\n"
      ],
      "execution_count": 0,
      "outputs": []
    },
    {
      "cell_type": "code",
      "metadata": {
        "id": "4DQh3BeZntIr",
        "colab_type": "code",
        "colab": {}
      },
      "source": [
        "\n",
        "id_to_encode = []\n",
        "\n",
        "n = 0\n",
        "for scenarion in json_['assignations']:\n",
        "    tasksInScenario = scenarion['scenario']['tasks']\n",
        "    for task in tasksInScenario:\n",
        "      id_to_encode.append(task['id']) \n",
        "    if n == 20:#cambiar a 20\n",
        "        break\n",
        "    n+=1    \n",
        "encoder2 = preprocessing.LabelEncoder()\n",
        "encoder2.fit(id_to_encode)\n"
      ],
      "execution_count": 0,
      "outputs": []
    },
    {
      "cell_type": "code",
      "metadata": {
        "id": "TJwfh6eLvDuy",
        "colab_type": "code",
        "colab": {}
      },
      "source": [
        "n = 0\n",
        "y_scenario = []\n",
        "for scenarion in json_['assignations']:\n",
        "  scenario = scenarion['scenario']\n",
        "  s = requests.post('http://18.184.40.57:9010/scenario?teamKey=lmao', json={\"scenario\":scenario , \"taskId\":\"\"}).json()\n",
        "  y_scenario.append(s['value'])\n",
        "  if n == 20:\n",
        "    break\n",
        "  n += 1\n",
        "\n",
        "print(y_scenario)"
      ],
      "execution_count": 0,
      "outputs": []
    },
    {
      "cell_type": "code",
      "metadata": {
        "id": "xkikpH-Pi4Pr",
        "colab_type": "code",
        "colab": {}
      },
      "source": [
        "#alejandro \n",
        "n = 0\n",
        "x_train = []\n",
        "y_train = []\n",
        "i = 0\n",
        "for scenarion in json_['assignations']:\n",
        "    tasksInScenario = scenarion['scenario']['tasks']\n",
        "    j = 0\n",
        "    for task in tasksInScenario:\n",
        "      task_id = task['id']\n",
        "      if task_id == encoder2.inverse_transform([y_scenario[i]])[0]:\n",
        "        print(task_id)\n",
        "        print(encoder2.inverse_transform([y_scenario[i]])[0])\n",
        "        y_train.append(j * 7)\n",
        "        j +=1\n",
        "    if n == 20:\n",
        "        break\n",
        "    i+=1        \n",
        "    n+=1\n",
        "print(y_train) \n",
        "#print(encoder2.inverse_transform([273]))\n"
      ],
      "execution_count": 0,
      "outputs": []
    },
    {
      "cell_type": "code",
      "metadata": {
        "colab_type": "code",
        "id": "VPxNJiF45OCf",
        "colab": {}
      },
      "source": [
        "#Joel\n",
        "n = 0\n",
        "x_train = []\n",
        "for scenarion in json_['assignations']:\n",
        "  tasksInScenario = scenarion['scenario']['tasks']\n",
        "  task_list = []\n",
        "  for task in tasksInScenario:\n",
        "    task_id = encoder2.transform([task['id']])[0]\n",
        "    if task['completed']==True:\n",
        "        task_completed = 1\n",
        "    else:\n",
        "      task_completed = 0\n",
        "    category_type = float(task['category']['type'])\n",
        "    category_stressLevel = float(task['category']['stressLevel'])\n",
        "    task_reportId = float(task['reportId'])\n",
        "    task_duration = float(task['duration'])\n",
        "    task_sla = float(task['sla'])\n",
        "    if len(task_list)==0:\n",
        "      task_list = [task_id, task_completed, category_type, category_stressLevel, task_reportId, task_duration, task_sla]\n",
        "    else:\n",
        "      task_list = task_list + [task_id, task_completed, category_type, category_stressLevel, task_reportId, task_duration, task_sla]\n",
        "  x_train.append(task_list)    \n",
        "  if n==20:\n",
        "    break\n",
        "  else:\n",
        "    n+=1\n"
      ],
      "execution_count": 0,
      "outputs": []
    },
    {
      "cell_type": "code",
      "metadata": {
        "id": "3n5iPUT7tlSs",
        "colab_type": "code",
        "colab": {}
      },
      "source": [
        "\n",
        "y_train = []\n",
        "j = 0\n",
        "i = 0\n",
        "\n",
        "for p in x_train:\n",
        "  while i < len(p) or i + 7 < len(p):\n",
        "   \n",
        "    if p[i] == encoder2.transform([y_scenario[j]]):\n",
        "     y_train.append(i)\n",
        "     break\n",
        "    i+=7\n",
        "  i = 0   \n",
        "  j += 1   "
      ],
      "execution_count": 0,
      "outputs": []
    },
    {
      "cell_type": "code",
      "metadata": {
        "id": "-cAhQvO1IWDw",
        "colab_type": "code",
        "colab": {}
      },
      "source": [
        "#Implementacion red neuronal\n",
        "lr = 0.01           # learning rate\n",
        "nn = [2, 16, 8, 1]  # número de neuronas por capa.\n",
        "\n",
        "# Creamos el objeto del modelo de red neuronal multicapa.\n",
        "prediction_model = sk.neural_network.MLPRegressor(solver='sgd', \n",
        "                                     learning_rate_init=lr, \n",
        "                                     hidden_layer_sizes=tuple(nn[1:]),\n",
        "                                     verbose=True,\n",
        "                                     n_iter_no_change=1000,\n",
        "                                     batch_size = 64)\n",
        "\n",
        "prediction_model.fit(x_train,y_scenario)"
      ],
      "execution_count": 0,
      "outputs": []
    },
    {
      "cell_type": "code",
      "metadata": {
        "id": "hvFY5ksdMuWj",
        "colab_type": "code",
        "colab": {}
      },
      "source": [
        "model = RandomForestClassifier(n_estimators=5000, max_depth=1000)\n",
        "model.fit(x_train, y_train)"
      ],
      "execution_count": 0,
      "outputs": []
    },
    {
      "cell_type": "code",
      "metadata": {
        "id": "6AB-z_JUTC-e",
        "colab_type": "code",
        "colab": {}
      },
      "source": [
        "r = requests.get('http://18.184.40.57:9010//evaluation?teamKey=lmao')\n",
        "test = r.json()[0]"
      ],
      "execution_count": 0,
      "outputs": []
    },
    {
      "cell_type": "code",
      "metadata": {
        "id": "RcZyagvGWQqn",
        "colab_type": "code",
        "colab": {}
      },
      "source": [
        "n = 0\n",
        "x_set = []\n",
        "for task in test['tasks']:\n",
        "    task_id = 0\n",
        "    if task['completed']==True:\n",
        "        task_completed = 1\n",
        "    else:\n",
        "      task_completed = 0\n",
        "    category_type = float(task['category']['type'])\n",
        "    category_stressLevel = float(task['category']['stressLevel'])\n",
        "    task_reportId = float(task['reportId'])\n",
        "    task_duration = float(task['duration'])\n",
        "    task_sla = float(task['sla'])\n",
        "    if len(task_list)==0:\n",
        "      task_list = [task_id, task_completed, category_type, category_stressLevel, task_reportId, task_duration, task_sla]\n",
        "    else:\n",
        "      task_list = task_list + [task_id, task_completed, category_type, category_stressLevel, task_reportId, task_duration, task_sla]\n",
        "    x_set.append(task_list)    \n",
        "    if n==20:\n",
        "     break\n",
        "    else:\n",
        "     n+=1\n",
        "print(len(x_set))"
      ],
      "execution_count": 0,
      "outputs": []
    },
    {
      "cell_type": "code",
      "metadata": {
        "id": "Gqeue1ECZ-iO",
        "colab_type": "code",
        "colab": {}
      },
      "source": [
        "print(model.predict(x_set[0]))"
      ],
      "execution_count": 0,
      "outputs": []
    }
  ]
}